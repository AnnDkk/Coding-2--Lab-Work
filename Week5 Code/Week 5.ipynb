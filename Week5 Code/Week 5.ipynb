{
 "cells": [
  {
   "cell_type": "code",
   "execution_count": 29,
   "id": "89b0c7ac",
   "metadata": {},
   "outputs": [
    {
     "name": "stdout",
     "output_type": "stream",
     "text": [
      "[16, 18, 16, 6, 10, 10, 8, 8, 8, 16]\n",
      "[16, 18, 18, 12, 8, 10, 10, 8, 8, 12]\n",
      "[14, 18, 18, 16, 10, 10, 10, 10, 8, 10]\n",
      "[12, 16, 18, 18, 14, 10, 10, 10, 10, 10]\n",
      "[12, 14, 18, 18, 16, 12, 10, 10, 10, 10]\n",
      "[12, 14, 16, 18, 18, 14, 12, 10, 10, 10]\n",
      "[12, 14, 16, 18, 18, 16, 14, 12, 10, 10]\n",
      "[12, 14, 16, 18, 18, 18, 16, 14, 12, 10]\n",
      "[12, 14, 16, 18, 18, 18, 18, 16, 14, 12]\n",
      "[12, 14, 16, 18, 18, 18, 18, 18, 16, 14]\n",
      "[14, 14, 16, 18, 18, 18, 18, 18, 18, 16]\n",
      "[16, 14, 16, 18, 18, 18, 18, 18, 18, 18]\n",
      "[18, 16, 16, 18, 18, 18, 18, 18, 18, 18]\n",
      "[18, 18, 16, 18, 18, 18, 18, 18, 18, 18]\n",
      "[18, 18, 18, 18, 18, 18, 18, 18, 18, 18]\n",
      "After 15 passes you have 18 dumplings on your plate\n"
     ]
    }
   ],
   "source": [
    "list1=[12,25,8,2,16,4,10,6,10,20]\n",
    "list2=[12,25,8,2,16,4,10,6,10,20]\n",
    "count=1\n",
    "\n",
    "while count<20:\n",
    "\n",
    "   for i in range(len(list1)):\n",
    "      if i==0:\n",
    "         list2[i]=int(list1[i]/2+list1[len(list1)-1]/2)\n",
    "         #print(list2)\n",
    "      else:\n",
    "         list2[i]=int(list1[i]/2+list1[i-1]/2)\n",
    "\n",
    "   for i in range(len(list1)):\n",
    "      if list2[i]%2==1:\n",
    "         list2[i]=list2[i]+1\n",
    "\n",
    "   for i in range(len(list1)):\n",
    "      list1[i]=list2[i]\n",
    "      \n",
    "   print(list1)\n",
    "\n",
    "   equal=0\n",
    "   for i in range(len(list1)):\n",
    "      if list1[0]==list2[i]:\n",
    "         equal=equal+1\n",
    "        \n",
    "         \n",
    "   if equal==len(list1):\n",
    "      print('After',count,'passes you have',list1[0],'dumplings on your plate')\n",
    "      break\n",
    "   \n",
    "   count=count+1\n"
   ]
  },
  {
   "cell_type": "code",
   "execution_count": 4,
   "id": "266be756",
   "metadata": {},
   "outputs": [],
   "source": []
  },
  {
   "cell_type": "code",
   "execution_count": null,
   "id": "0f566b23",
   "metadata": {},
   "outputs": [],
   "source": []
  },
  {
   "cell_type": "code",
   "execution_count": null,
   "id": "53d4f00c",
   "metadata": {},
   "outputs": [],
   "source": []
  }
 ],
 "metadata": {
  "kernelspec": {
   "display_name": "Python 3 (ipykernel)",
   "language": "python",
   "name": "python3"
  },
  "language_info": {
   "codemirror_mode": {
    "name": "ipython",
    "version": 3
   },
   "file_extension": ".py",
   "mimetype": "text/x-python",
   "name": "python",
   "nbconvert_exporter": "python",
   "pygments_lexer": "ipython3",
   "version": "3.9.16"
  }
 },
 "nbformat": 4,
 "nbformat_minor": 5
}
